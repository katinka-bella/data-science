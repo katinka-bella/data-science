{
 "cells": [
  {
   "cell_type": "markdown",
   "id": "e6962870",
   "metadata": {},
   "source": [
    "### Data description"
   ]
  },
  {
   "attachments": {},
   "cell_type": "markdown",
   "id": "66076d51",
   "metadata": {},
   "source": [
    "#### Datatset\n",
    "- This dataset is obtained from Kaggle: [Titanic Dataset](https://www.kaggle.com/datasets/ibrahimelsayed182/titanic-dataset/data)\n",
    "\n",
    "#### Context\n",
    "- The dataset comprises details of 891 passengers, along with an indicator of whether each passenger survived the Titanic crash or not. \n",
    "- The objective is to develop a model capable of predicting whether a person would survive if they were aboard the Titanic in the event of a shipwreck.\n",
    "\n",
    "#### Attribute Information\n",
    "- PassengerId: The id for each passenger\n",
    "- Survived: Whether the passenger survived or not? [1: Survived, 0: Died]\n",
    "- Pclass: The travel class of the passenger [1: First, 2: Second, 3: Third]\n",
    "- Name: Name of the passenger\n",
    "- Sex: The genger of the passenger [male: Male, female: Female]\n",
    "- Age: The Age of the passenger\n",
    "- SibSp: Number of Siblings/Spouses Aboard\n",
    "- Parch: Number of Parents/Children Aboard\n",
    "- Ticket: The ticket number of the passenger\n",
    "- Fare: The amount of fare paid by the passenger\n",
    "- Cabin: The cabin number allotted\n",
    "- Embarked: Port of Embarkation [C: Cherbourg, Q: Queenstown, S: Southampton]"
   ]
  },
  {
   "cell_type": "code",
   "execution_count": null,
   "id": "75a761db",
   "metadata": {},
   "outputs": [],
   "source": []
  }
 ],
 "metadata": {
  "kernelspec": {
   "display_name": "Python 3 (ipykernel)",
   "language": "python",
   "name": "python3"
  },
  "language_info": {
   "codemirror_mode": {
    "name": "ipython",
    "version": 3
   },
   "file_extension": ".py",
   "mimetype": "text/x-python",
   "name": "python",
   "nbconvert_exporter": "python",
   "pygments_lexer": "ipython3",
   "version": "3.11.5"
  }
 },
 "nbformat": 4,
 "nbformat_minor": 5
}
